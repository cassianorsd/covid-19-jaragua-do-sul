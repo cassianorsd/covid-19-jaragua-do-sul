{
 "cells": [
  {
   "cell_type": "code",
   "execution_count": 3,
   "metadata": {},
   "outputs": [],
   "source": [
    "import pandas as pd\n",
    "import datetime"
   ]
  },
  {
   "cell_type": "code",
   "execution_count": 4,
   "metadata": {},
   "outputs": [],
   "source": [
    "cases = []\n",
    "cases.append({'date':datetime.datetime(2020, 3, 20).strftime('%Y-%m-%d'),'suspeitos':18,'casos':1})\n",
    "cases.append({'date':datetime.datetime(2020, 3, 21).strftime('%Y-%m-%d'),'suspeitos':22,'casos':1})\n",
    "cases.append({'date':datetime.datetime(2020, 3, 22).strftime('%Y-%m-%d'),'suspeitos':23,'casos':1})\n",
    "cases.append({'date':datetime.datetime(2020, 3, 23).strftime('%Y-%m-%d'),'suspeitos':23,'casos':2})\n",
    "cases.append({'date':datetime.datetime(2020, 3, 24).strftime('%Y-%m-%d'),'suspeitos':26,'casos':2})\n",
    "cases.append({'date':datetime.datetime(2020, 3, 25).strftime('%Y-%m-%d'),'suspeitos':27,'casos':2})\n",
    "cases.append({'date':datetime.datetime(2020, 3, 26).strftime('%Y-%m-%d'),'suspeitos':30,'casos':2})\n",
    "cases.append({'date':datetime.datetime(2020, 3, 27).strftime('%Y-%m-%d'),'suspeitos':30,'casos':2})\n",
    "cases.append({'date':datetime.datetime(2020, 3, 28).strftime('%Y-%m-%d'),'suspeitos':31,'casos':2})\n",
    "cases.append({'date':datetime.datetime(2020, 3, 29).strftime('%Y-%m-%d'),'suspeitos':31,'casos':2})\n",
    "cases.append({'date':datetime.datetime(2020, 3, 30).strftime('%Y-%m-%d'),'suspeitos':31,'casos':2})\n",
    "cases.append({'date':datetime.datetime(2020, 3, 31).strftime('%Y-%m-%d'),'suspeitos':36,'casos':3})\n",
    "cases.append({'date':datetime.datetime(2020, 4, 1).strftime('%Y-%m-%d'),'suspeitos':39,'casos':3})\n",
    "cases.append({'date':datetime.datetime(2020, 4, 2).strftime('%Y-%m-%d'),'suspeitos':44,'casos':4})\n",
    "cases.append({'date':datetime.datetime(2020, 4, 3).strftime('%Y-%m-%d'),'suspeitos':51,'casos':5})"
   ]
  },
  {
   "cell_type": "code",
   "execution_count": 6,
   "metadata": {},
   "outputs": [],
   "source": [
    "df = pd.DataFrame(cases)\n",
    "df = df.sort_values(by='date',ascending=True)\n",
    "df.to_pickle('cases.pkl')"
   ]
  }
 ],
 "metadata": {
  "kernelspec": {
   "display_name": "Python 3",
   "language": "python",
   "name": "python3"
  },
  "language_info": {
   "codemirror_mode": {
    "name": "ipython",
    "version": 3
   },
   "file_extension": ".py",
   "mimetype": "text/x-python",
   "name": "python",
   "nbconvert_exporter": "python",
   "pygments_lexer": "ipython3",
   "version": "3.7.5"
  }
 },
 "nbformat": 4,
 "nbformat_minor": 4
}
